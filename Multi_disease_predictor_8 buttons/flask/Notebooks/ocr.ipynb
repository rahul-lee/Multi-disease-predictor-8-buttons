{
 "cells": [
  {
   "cell_type": "code",
   "execution_count": 75,
   "metadata": {},
   "outputs": [],
   "source": [
    "# date_pattern = r'^(?:(?:31(\\/|-|\\.)(?:0?[13578]|1[02]))\\1|(?:(?:29|30)(\\/|-|\\.)(?:0?[13-9]|1[0-2])\\2))(?:(?:1[6-9]|[2-9]\\d)?\\d{2})$|^(?:29(\\/|-|\\.)0?2\\3(?:(?:(?:1[6-9]|[2-9]\\d)?(?:0[48]|[2468][048]|[13579][26])|(?:(?:16|[2468][048]|[3579][26])00))))$|^(?:0?[1-9]|1\\d|2[0-8])(\\/|-|\\.)(?:(?:0?[1-9])|(?:1[0-2]))\\4(?:(?:1[6-9]|[2-9]\\d)?\\d{2})$'\n",
    "\n",
    "import cv2\n",
    "import numpy as np\n",
    "from matplotlib import pyplot as plt\n",
    "import pytesseract\n",
    "from pytesseract import Output\n",
    "import re"
   ]
  },
  {
   "cell_type": "code",
   "execution_count": 76,
   "metadata": {},
   "outputs": [
    {
     "name": "stdout",
     "output_type": "stream",
     "text": [
      "['Berghotel', '', 'Grosse Scheidegg', '3818 Grindelwald', '', 'Familie R. Miller', '', 'Rech.Nr. 4572 30. 07. 2007/13:29: 17', '', 'Bar Tisch 7/01', '', '@xLatte Macchiato a& 4.50 CHF 9.00', '', 'IxGloki i $6.0 fF Om', '', 'IxSchweinschnitzel] a 22.00 CHF 22.00', 'a', '', '18.50 CHF 18,50', '', 'Totaless Chr 54.50', '', 'IxChasspatz 14', '', 'Incl. 7.6% MwSt 54.50 CHF: 3.85', '', 'Entspricht in Euro 36.33 EUR', 'Es bediente Sie: Ursula', '', 'MwSt Nr.: 430 234', 'Tel.: 033 853 67 16', 'Fax.: 033 853 67 19', 'E-mail: grossescheidegg@b luewin. ch', '']\n"
     ]
    }
   ],
   "source": [
    "img = cv2.imread('receipt.jpg')\n",
    "config = ('-l eng+due --oem 1 --psm 3')\n",
    "\n",
    "extracted_text = pytesseract.image_to_string(img, config=config)\n",
    "print(extracted_text.splitlines())"
   ]
  },
  {
   "cell_type": "code",
   "execution_count": null,
   "metadata": {
    "jupyter": {
     "source_hidden": true
    },
    "tags": []
   },
   "outputs": [],
   "source": [
    "Berghotel\n",
    "\n",
    "Grosse Scheidegg\n",
    "3818 Grindelwald\n",
    "\n",
    "Familie R. Miller\n",
    "\n",
    "Rech.Nr. 4572 30. 07. 2007/13:29: 17\n",
    "\n",
    "Bar Tisch 7/01\n",
    "\n",
    "@xLatte Macchiato a& 4.50 CHF 9.00\n",
    "\n",
    "IxGloki i $6.0 fF Om\n",
    "\n",
    "IxSchweinschnitzel] a 22.00 CHF 22.00\n",
    "a\n",
    "\n",
    "18.50 CHF 18,50\n",
    "\n",
    "Totaless Chr 54.50\n",
    "\n",
    "IxChasspatz 14\n",
    "\n",
    "Incl. 7.6% MwSt 54.50 CHF: 3.85\n",
    "\n",
    "Entspricht in Euro 36.33 EUR\n",
    "Es bediente Sie: Ursula\n",
    "\n",
    "MwSt Nr.: 430 234\n",
    "Tel.: 033 853 67 16\n",
    "Fax.: 033 853 67 19\n",
    "E-mail: grossescheidegg@b luewin. ch"
   ]
  },
  {
   "cell_type": "code",
   "execution_count": 77,
   "metadata": {},
   "outputs": [
    {
     "name": "stdout",
     "output_type": "stream",
     "text": [
      "['Berghotel', '', 'Grosse Scheidegg', '3818 Grindelwald', '', 'Familie R. Miller', '', 'Rech.Nr. 4572 30. 07. 2007/13:29: 17', '', 'Bar Tisch 7/01', '', '@xLatte Macchiato a& 4.50 CHF 9.00', '', 'IxGloki i $6.0 fF Om', '', 'IxSchweinschnitzel] a 22.00 CHF 22.00', 'a', '', '18.50 CHF 18,50', '', 'Totaless Chr 54.50', '', 'IxChasspatz 14', '', 'Incl. 7.6% MwSt 54.50 CHF: 3.85', '', 'Entspricht in Euro 36.33 EUR', 'Es bediente Sie: Ursula', '', 'MwSt Nr.: 430 234', 'Tel.: 033 853 67 16', 'Fax.: 033 853 67 19', 'E-mail: grossescheidegg@b luewin. ch', '']\n"
     ]
    }
   ],
   "source": [
    "splits = extracted_text.splitlines()\n",
    "print(splits)"
   ]
  },
  {
   "cell_type": "code",
   "execution_count": 64,
   "metadata": {},
   "outputs": [
    {
     "name": "stdout",
     "output_type": "stream",
     "text": [
      "['Berghotel', '\\n', 'Grosse Scheidegg', '3818 Grindelwald', '\\n', 'Familie R. Miller', '\\n', 'Rech.Nr. 4572 30. 07. 2007/13:29: 17', '\\n', 'Bar Tisch 7/01', '\\n', '@xLatte Macchiato a& 4.50 CHF 9.00', '\\n', 'IxGloki i $6.0 fF Om', '\\n', 'IxSchweinschnitzel] a 22.00 CHF 22.00', 'a', '\\n', '18.50 CHF 18,50', '\\n', 'Totaless Chr 54.50', '\\n', 'IxChasspatz 14', '\\n', 'Incl. 7.6% MwSt 54.50 CHF: 3.85', '\\n', 'Entspricht in Euro 36.33 EUR', 'Es bediente Sie: Ursula', '\\n', 'MwSt Nr.: 430 234', 'Tel.: 033 853 67 16', 'Fax.: 033 853 67 19', 'E-mail: grossescheidegg@b luewin. ch', '\\n']\n"
     ]
    }
   ],
   "source": [
    "# for n, i in enumerate(splits):\n",
    "# ...   if i == \"\":\n",
    "# ...      splits[n] = \"\\n\"\n",
    "# print(splits)"
   ]
  },
  {
   "cell_type": "code",
   "execution_count": 78,
   "metadata": {},
   "outputs": [
    {
     "name": "stdout",
     "output_type": "stream",
     "text": [
      "Berghotel\n",
      "\n",
      "Grosse Scheidegg\n",
      "3818 Grindelwald\n",
      "\n",
      "Familie R.Miller\n",
      "\n",
      "Rech.Nr.4572 30.07.2007/13:29: 17\n",
      "\n",
      "Bar Tisch 7/01\n",
      "\n",
      "@xLatte Macchiato a& 4.50 CHF 9.00\n",
      "\n",
      "IxGloki i $6.0 fF Om\n",
      "\n",
      "IxSchweinschnitzel] a 22.00 CHF 22.00\n",
      "a\n",
      "\n",
      "18.50 CHF 18,50\n",
      "\n",
      "Totaless Chr 54.50\n",
      "\n",
      "IxChasspatz 14\n",
      "\n",
      "Incl.7.6% MwSt 54.50 CHF: 3.85\n",
      "\n",
      "Entspricht in Euro 36.33 EUR\n",
      "Es bediente Sie: Ursula\n",
      "\n",
      "MwSt Nr.: 430 234\n",
      "Tel.: 033 853 67 16\n",
      "Fax.: 033 853 67 19\n",
      "E-mail: grossescheidegg@b luewin.ch\n",
      "\n"
     ]
    }
   ],
   "source": [
    "s = \"\\n\".join(splits)\n",
    "s=s.replace(\". \", \".\")\n",
    "print(s)"
   ]
  },
  {
   "cell_type": "code",
   "execution_count": 8,
   "metadata": {
    "tags": []
   },
   "outputs": [
    {
     "name": "stdout",
     "output_type": "stream",
     "text": [
      "BerghotelGrosse Scheidegg3818 GrindelwaldFamilie R. MillerRech.Nr. 4572 30. 07. 2007/13:29: 17Bar Tisch 7/01@xLatte Macchiato a& 4.50 CHF 9.00IxGloki i $6.0 fF OmIxSchweinschnitzel] a 22.00 CHF 22.00a18.50 CHF 18,50Totaless Chr 54.50IxChasspatz 14Incl. 7.6% MwSt 54.50 CHF: 3.85Entspricht in Euro 36.33 EUREs bediente Sie: UrsulaMwSt Nr.: 430 234Tel.: 033 853 67 16Fax.: 033 853 67 19E-mail: grossescheidegg@b luewin. ch\n"
     ]
    }
   ],
   "source": [
    "\n",
    "\n",
    "# # lis = [x for x in splits]\n",
    "# s = ''.join(lis)\n",
    "# print(s)"
   ]
  },
  {
   "cell_type": "code",
   "execution_count": 79,
   "metadata": {},
   "outputs": [
    {
     "name": "stdout",
     "output_type": "stream",
     "text": [
      "30.07.2007\n"
     ]
    }
   ],
   "source": [
    "\n",
    "pattern = r'((?:0[1-9 ]|[1-2 ][0-9 ]|3[0-1])\\.(?:0[1-9 ]|1[0-2 ])\\.[0-9 ]{4})'\n",
    "date = re.findall(pattern, s)\n",
    "list_date_to_str = \"\".join([str(x) for x in date])\n",
    "print(list_date_to_str)"
   ]
  },
  {
   "cell_type": "code",
   "execution_count": 24,
   "metadata": {
    "tags": []
   },
   "outputs": [],
   "source": [
    "\n",
    "# img = cv2.imread('receipt.jpg')\n",
    "# d = pytesseract.image_to_data(img, output_type=Output.DICT)\n",
    "# n_boxes = len(d['level'])\n",
    "# for i in range(n_boxes):\n",
    "#     (x, y, w, h) = (d['left'][i], d['top'][i], d['width'][i], d['height'][i])    \n",
    "#     img = cv2.rectangle(img, (x, y), (x + w, y + h), (0, 0, 255), 2)\n",
    "\n",
    "# cv2.imshow('img', img)\n",
    "\n",
    "# cv2.waitKey(0)\n",
    "# cv2.destroyAllWindows()"
   ]
  }
 ],
 "metadata": {
  "kernelspec": {
   "display_name": "Python 3",
   "language": "python",
   "name": "python3"
  },
  "language_info": {
   "codemirror_mode": {
    "name": "ipython",
    "version": 3
   },
   "file_extension": ".py",
   "mimetype": "text/x-python",
   "name": "python",
   "nbconvert_exporter": "python",
   "pygments_lexer": "ipython3",
   "version": "3.9.2"
  }
 },
 "nbformat": 4,
 "nbformat_minor": 4
}
